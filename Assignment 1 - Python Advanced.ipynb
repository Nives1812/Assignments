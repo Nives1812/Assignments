{
 "cells": [
  {
   "cell_type": "markdown",
   "id": "29cfb5fc",
   "metadata": {},
   "source": [
    "Q1. What is the purpose of Python's OOP?\n",
    "The concept of OOP in python focuses on creating reusable code(an approach of using objects and classes as same as other general programming languages). It is a method of structuring a program by bundling related properties and behaviours into individual objects."
   ]
  },
  {
   "cell_type": "markdown",
   "id": "d0c5d1c4",
   "metadata": {},
   "source": [
    "2. Where does an inheritance search look for an attribute?\n",
    "The first occurence of the attribute by looking in object, then in all classes above it.(the search occurs for the lowest occurence)\n",
    "The child class will first search the attribute in its own class, if not, then search in its parent class."
   ]
  },
  {
   "cell_type": "markdown",
   "id": "663a249b",
   "metadata": {},
   "source": [
    "3. How do you distinguish between a class object and an instance object?\n",
    "A class is a template for creating objects.Integers, lists, dictionaries, functions etc are object in Python. Every object has a type and the object types are created using classes. It is a logical entity and it does not allocate memory space when created. It is used defined.\n",
    "\n",
    "Object is an instance of a class and is a physical entity. It allocates memory space whenever they are created. We can create more than one object using a class."
   ]
  },
  {
   "cell_type": "markdown",
   "id": "83c9ec0e",
   "metadata": {},
   "source": [
    "4. What makes the first argument in a class’s method function special?\n",
    "The first parameter of a function in class must be object itself. By convention it is always named self. In the init method, self refers to the newly created object in other class methods, it referes to the instance whose method was called."
   ]
  },
  {
   "cell_type": "markdown",
   "id": "df7630e9",
   "metadata": {},
   "source": [
    "5. What is the purpose of the __init__ method?\n",
    "__init__ are similar to constructors which is used to initialize the objects's state. The task of constructors is to assign values to the data members of the class when an object of class is created. It is run as soon as an object of a class is instantiated."
   ]
  },
  {
   "cell_type": "markdown",
   "id": "6fbb0464",
   "metadata": {},
   "source": [
    "6. What is the process for creating a class instance?\n",
    "The class is instantiated when a object is created. All the instances share the attribute and behaviour of the class. A class can have any number of instances.\n",
    "Eg:\n",
    "class Dog:\n",
    "    attr1 = \"mammal\"\n",
    "    attr2 = \"Dog\n",
    "    def fun(self):\n",
    "        print(\"I am a\", self.attr1)\n",
    "        print(\"I am a\", self.attr2)\n",
    "Maxx = Dog()  #object initialization\n",
    "print(Maxx.attr1)  #accessing class attributes amd method thru objects.\n",
    "Maxx.fun()"
   ]
  },
  {
   "cell_type": "markdown",
   "id": "8960a0eb",
   "metadata": {},
   "source": [
    "7. What is the process for creating a class?\n",
    "Classes are created by using the keyword class.\n",
    "Attributes are the variables that belong to a class.\n",
    "Attributes are always public and can be accessed using the dot(.) operator.\n",
    "Eg:\n",
    "class Dog:\n",
    "    pass"
   ]
  },
  {
   "cell_type": "markdown",
   "id": "7d583311",
   "metadata": {},
   "source": [
    "8. How would you define the superclasses of a class?\n",
    "The class from which a class inherits is called the parent or superclass also called as ancestors."
   ]
  }
 ],
 "metadata": {
  "kernelspec": {
   "display_name": "Python 3 (ipykernel)",
   "language": "python",
   "name": "python3"
  },
  "language_info": {
   "codemirror_mode": {
    "name": "ipython",
    "version": 3
   },
   "file_extension": ".py",
   "mimetype": "text/x-python",
   "name": "python",
   "nbconvert_exporter": "python",
   "pygments_lexer": "ipython3",
   "version": "3.9.7"
  }
 },
 "nbformat": 4,
 "nbformat_minor": 5
}
