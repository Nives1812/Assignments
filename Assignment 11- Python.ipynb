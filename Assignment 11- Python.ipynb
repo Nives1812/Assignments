{
 "cells": [
  {
   "cell_type": "code",
   "execution_count": 1,
   "id": "f8086324",
   "metadata": {},
   "outputs": [
    {
     "name": "stdout",
     "output_type": "stream",
     "text": [
      "only postivie numbers are allowed\n"
     ]
    }
   ],
   "source": [
    "#1. Create an assert statement that throws an AssertionError if the variable spam is a negative integer.\n",
    "def square(x):\n",
    "    assert x>=0\n",
    "    return x*x\n",
    "try:\n",
    "    square(-2)\n",
    "except AssertionError as msg:\n",
    "    print('only postivie numbers are allowed')"
   ]
  },
  {
   "cell_type": "markdown",
   "id": "400465ce",
   "metadata": {},
   "source": [
    "2. Write an assert statement that triggers an AssertionError if the variables eggs and bacon contain strings that are the same as each other, even if their cases are different (that is, 'hello' and 'hello' are considered the same, and 'goodbye' and 'GOODbye' are also considered the same).\n",
    "assert eggs.lower() != bacon.lower(), 'The eggs and bacon variables are the same!'\n",
    "or \n",
    "assert eggs.upper() != bacon.upper(), 'The eggs and bacon variables are the same!'"
   ]
  },
  {
   "cell_type": "markdown",
   "id": "4ca46b69",
   "metadata": {},
   "source": [
    "3. Create an assert statement that throws an AssertionError every time.\n",
    "assert(False)- will always trigger a assertionerror."
   ]
  },
  {
   "cell_type": "markdown",
   "id": "4fb14b91",
   "metadata": {},
   "source": [
    "4. What are the two lines that must be present in your software in order to call logging.debug()?\n",
    "import logging\n",
    "logging.basicConfig(level=logging.DEBUG, format=' %(asctime)s -\n",
    "%(levelname)s - %(message)s')"
   ]
  },
  {
   "cell_type": "markdown",
   "id": "3f2eed11",
   "metadata": {},
   "source": [
    "5. What are the two lines that your program must have in order to have logging.debug() send a logging message to a file named programLog.txt?\n",
    "\n",
    "import logging\n",
    "logging.basicConfig(filename='programLog.txt', level=logging.DEBUG,\n",
    "format=' %(asctime)s - %(levelname)s - %(message)s')"
   ]
  },
  {
   "cell_type": "markdown",
   "id": "c92aaefe",
   "metadata": {},
   "source": [
    "6. What are the five levels of logging?\n",
    "Debug, Info, Warning, Error and Critical are the five levels of logging."
   ]
  },
  {
   "cell_type": "markdown",
   "id": "cf1206db",
   "metadata": {},
   "source": [
    "7. What line of code would you add to your software to disable all logging messages?\n",
    "Adding  the below code will disable all logging messages:\n",
    "logging.disable(logging.CRITICAL)"
   ]
  },
  {
   "cell_type": "markdown",
   "id": "fe89fd5e",
   "metadata": {},
   "source": [
    "8.Why is using logging messages better than using print() to display the same message?\n",
    "We have timestamp when we use logging statements and we can disable logging messages without removing the logging function calls. We can selectively disable lower-level logging messages and we can create our own logging messages."
   ]
  },
  {
   "cell_type": "markdown",
   "id": "fce26dac",
   "metadata": {},
   "source": [
    "9. What are the differences between the Step Over, Step In, and Step Out buttons in the debugger?\n",
    "The Step Over button will quickly execute the function call without stepping into it. \n",
    "The StepIn button will move the debugger into a function call. \n",
    "The Step Out button will quickly execute the rest of the code until it steps out of the function it currently is in."
   ]
  },
  {
   "cell_type": "markdown",
   "id": "85de381a",
   "metadata": {},
   "source": [
    "10.After you click Continue, when will the debugger stop ?\n",
    "The debugger will stop when it reaches the end of the program or a line with a breakpoint."
   ]
  },
  {
   "cell_type": "markdown",
   "id": "5e9ee261",
   "metadata": {},
   "source": [
    "11. What is the concept of a breakpoint?\n",
    " The concept of breakpoint is to set a line of code that causes the debugger to break/pause when the program execution reaches that line."
   ]
  }
 ],
 "metadata": {
  "kernelspec": {
   "display_name": "Python 3 (ipykernel)",
   "language": "python",
   "name": "python3"
  },
  "language_info": {
   "codemirror_mode": {
    "name": "ipython",
    "version": 3
   },
   "file_extension": ".py",
   "mimetype": "text/x-python",
   "name": "python",
   "nbconvert_exporter": "python",
   "pygments_lexer": "ipython3",
   "version": "3.9.7"
  }
 },
 "nbformat": 4,
 "nbformat_minor": 5
}
