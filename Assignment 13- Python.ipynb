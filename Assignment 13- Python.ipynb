{
 "cells": [
  {
   "cell_type": "markdown",
   "id": "1db9b69a",
   "metadata": {},
   "source": [
    "1. What advantages do Excel spreadsheets have over CSV spreadsheets?\n",
    "\n",
    "CSV is a plain text format with a series of values separated by commas whereas Excel is a binary file that holds information about all the worksheets in a workbook. \n",
    "CSV file can't perform operations on data while Excel can perform operations on the data."
   ]
  },
  {
   "cell_type": "markdown",
   "id": "015cc3f3",
   "metadata": {},
   "source": [
    "2.What do you pass to csv.reader() and csv.writer() to create reader and writer objects?\n",
    "csv.reader(csvfile, dialect='excel',** fmtparams)\n",
    "csv.writer(csvfile, dialect='excel',** fmtparams) \n",
    "\n",
    "These are optional:\n",
    "dialect-a construct that allows you to create, store, and re-use various formatting parameters for your data(eg:delimeter,quotechar,lineterminator)\n",
    "** fmtparams-Formatting parameters that will overwrite those specified in the dialect"
   ]
  },
  {
   "cell_type": "markdown",
   "id": "7b868c3a",
   "metadata": {},
   "source": [
    "3. What modes do File objects for reader and writer objects need to be opened in?\n",
    "w+ mode (both read and write operations can be performd)\n",
    "r+b or rb+(Open a binary file for both reading and writing. (The file must exist.))\n",
    "w+b or wb+(Open an empty binary file for both reading and writing. If the file already exists, its contents are destroyed.)"
   ]
  },
  {
   "cell_type": "markdown",
   "id": "31d38935",
   "metadata": {},
   "source": [
    "4. What method takes a list argument and writes it to a CSV file?\n",
    " \n",
    "The csv. writer writerow method takes an iterable as an argument and writes each item as a comma separated line of items in the file."
   ]
  },
  {
   "cell_type": "markdown",
   "id": "fe0c9833",
   "metadata": {},
   "source": [
    "5. What do the keyword arguments delimiter and line terminator do?\n",
    "The delimiter specifies the character used to separate each field, by default it is a comma(,).\n",
    "The line terminator is the character that comes at the end of a row. By default, the line terminator is a newline."
   ]
  },
  {
   "cell_type": "markdown",
   "id": "d77743ce",
   "metadata": {},
   "source": [
    "6. What function takes a string of JSON data and returns a Python data structure?\n",
    "\n",
    "loads() method return Python data structure of JSON string or data."
   ]
  },
  {
   "cell_type": "markdown",
   "id": "94e30e3b",
   "metadata": {},
   "source": [
    "7. What function takes a Python data structure and returns a string of JSON data?\n",
    "\n",
    "json.dumps()returns a string of JSON data of Python data."
   ]
  }
 ],
 "metadata": {
  "kernelspec": {
   "display_name": "Python 3 (ipykernel)",
   "language": "python",
   "name": "python3"
  },
  "language_info": {
   "codemirror_mode": {
    "name": "ipython",
    "version": 3
   },
   "file_extension": ".py",
   "mimetype": "text/x-python",
   "name": "python",
   "nbconvert_exporter": "python",
   "pygments_lexer": "ipython3",
   "version": "3.9.7"
  }
 },
 "nbformat": 4,
 "nbformat_minor": 5
}
