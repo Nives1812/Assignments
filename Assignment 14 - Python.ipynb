{
 "cells": [
  {
   "cell_type": "markdown",
   "id": "3541109f",
   "metadata": {},
   "source": [
    "1. What does RGBA stand for?\n",
    "Red-Green-Blue-Alpha. This is an extended specification of RGB color to allow changes in opacity."
   ]
  },
  {
   "cell_type": "markdown",
   "id": "d0c3ccfa",
   "metadata": {},
   "source": [
    "2. From the Pillow module, how do you get the RGBA value of any images?\n",
    "PIL.Image.Image.getpixel() returns the pixel value."
   ]
  },
  {
   "cell_type": "markdown",
   "id": "f8de68df",
   "metadata": {},
   "source": [
    "3. What is a box tuple, and how does it work?\n",
    "\n",
    "A tuple of four inter coordinates that represent sthe rectangular region of an image is called a box tuple in Pillow module."
   ]
  },
  {
   "cell_type": "code",
   "execution_count": 13,
   "id": "529a7e0e",
   "metadata": {},
   "outputs": [
    {
     "name": "stdout",
     "output_type": "stream",
     "text": [
      "Width is: 900\n",
      "Height is: 900\n"
     ]
    }
   ],
   "source": [
    "#4. Use your image and load in notebook then, How can you find out the width and height of an Image object?\n",
    "from PIL import Image\n",
    "cat = Image.open('C:\\\\Users\\\\HP\\\\Desktop\\\\iNeuron\\\\Assignment\\\\catty.png')\n",
    "cat.size\n",
    "width, heigth = cat.size\n",
    "print(\"Width is:\", width)\n",
    "print(\"Height is:\", heigth)"
   ]
  },
  {
   "cell_type": "markdown",
   "id": "56a4de11",
   "metadata": {},
   "source": [
    "5. What method would you call to get Image object for a 100×100 image, excluding the lower-left quarter of it\n",
    "\n",
    "For image object with 100x100 image:\n",
    "cat = Image.new('RGBA', (100, 100),'purple')\n",
    "\n",
    "To exclude left corner we use numpy array:\n",
    "img_arr = np.array(cat)\n",
    "img_arr[50 : 50, 100 : 50] = (0, 0, 0)\n",
    "cat = Image.fromarray(img_arr)\n",
    "cat.show()"
   ]
  },
  {
   "cell_type": "markdown",
   "id": "d786179c",
   "metadata": {},
   "source": [
    "6. After making changes to an Image object, how could you save it as an image file\n",
    "im.save(\"filename.filetype\") eg:im.save(\"cat.png\")"
   ]
  },
  {
   "cell_type": "markdown",
   "id": "de2b7f57",
   "metadata": {},
   "source": [
    "7. What module contains Pillow’s shape-drawing code?\n",
    "Pillow provides a drawing module called \"ImageDraw\" that you can use to create simple 2D graphics on your Image objects"
   ]
  },
  {
   "cell_type": "markdown",
   "id": "709765ab",
   "metadata": {},
   "source": [
    "8. Image objects do not have drawing methods. What kind of object does? How do you get this kind of object?\n",
    "\n",
    "im = Image.new('RGBA', (200, 200), 'white')\n",
    "draw = ImageDraw.Draw(im)"
   ]
  }
 ],
 "metadata": {
  "kernelspec": {
   "display_name": "Python 3 (ipykernel)",
   "language": "python",
   "name": "python3"
  },
  "language_info": {
   "codemirror_mode": {
    "name": "ipython",
    "version": 3
   },
   "file_extension": ".py",
   "mimetype": "text/x-python",
   "name": "python",
   "nbconvert_exporter": "python",
   "pygments_lexer": "ipython3",
   "version": "3.9.7"
  }
 },
 "nbformat": 4,
 "nbformat_minor": 5
}
