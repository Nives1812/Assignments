{
 "cells": [
  {
   "cell_type": "markdown",
   "id": "2e73741e",
   "metadata": {},
   "source": [
    "Q1. What is the relationship between classes and modules?\n",
    "Class: Classes are used to define a blueprint for a given object.\n",
    "Module: Modules are used to reuse a given piece of code inside another program.\n",
    "\n",
    "Classes may generate instances (objects), and have per-instance state (instance variables). Modules may be mixed in to classes and other modules. The mixed in module's constants and methods blend into that class's own, augmenting the class's functionality. Classes, however, cannot be mixed in to anything."
   ]
  },
  {
   "cell_type": "markdown",
   "id": "917017d2",
   "metadata": {},
   "source": [
    "Q2. How do you make instances and classes\n",
    "To create instances of a class, you call the class using class name and pass in whatever arguments its __init__ method accepts.\n",
    "The class statement creates a new class definition. The name of the class immediately follows the keyword class followed by a colon."
   ]
  },
  {
   "cell_type": "markdown",
   "id": "90131537",
   "metadata": {},
   "source": [
    "Q3. Where and how should be class attributes created?\n",
    "->A class attribute is shared by all instances of the class. To define a class attribute, you place it outside of the __init__() method.\n",
    "->Use class_name.class_attribute or object_name.class_attribute to access the value of the class_attribute.\n",
    "->Use class attributes for storing class contants, track data across all instances, and setting default values for all instances of the class."
   ]
  },
  {
   "cell_type": "markdown",
   "id": "092b1494",
   "metadata": {},
   "source": [
    "Q4. Where and how are instance attributes created?\n",
    "-> An instance attribute is a Python variable belonging to one, and only one, object.\n",
    "->This variable is only accessible in the scope of this object and it is defined inside the constructor function, __init__(self,..) of the class."
   ]
  },
  {
   "cell_type": "markdown",
   "id": "e2aff5ef",
   "metadata": {},
   "source": [
    "Q5. What does the term \"self\" in a Python class mean?\n",
    "\n",
    "The self parameter is a reference to the current instance of the class, and is used to access variables that belongs to the class."
   ]
  },
  {
   "cell_type": "markdown",
   "id": "b71e3d54",
   "metadata": {},
   "source": [
    "Q6. How does a Python class handle operator overloading?\n",
    "Python have special methods  __add__(), __sub__(), __mul__(), __iadd__(),  __isub__(),  __imul__(),  __idiv__() and other special methods which define the behavior of +, -, *,+=,-=,*=,/= and so on. These methods should return a new instance of the class and creates new object and returns that as applicable to the method.\n",
    "Eg:\n",
    "class Order:\n",
    "    def __init__(self, cart, customer):\n",
    "        self.cart = list(cart)\n",
    "        self.customer = customer\n",
    "\n",
    "    def __add__(self, other):\n",
    "        new_cart = self.cart.copy()\n",
    "        new_cart.append(other)\n",
    "        return Order(new_cart, self.customer)\n",
    "\n",
    "order = Order(['banana', 'apple'], 'Real Python')\n",
    "\n",
    "(order + 'orange').cart  # New Order instance\n",
    "['banana', 'apple', 'orange']\n",
    "\n",
    "order.cart  # Original instance unchanged\n",
    "['banana', 'apple']\n",
    " \n",
    "order = order + 'mango'  # Changing the original instance\n",
    "order.cart\n",
    "['banana', 'apple', 'mango']"
   ]
  },
  {
   "cell_type": "markdown",
   "id": "4fc10818",
   "metadata": {},
   "source": [
    "Q7. When do you consider allowing operator overloading of your classes?\n",
    "\n",
    "Consider that we have two objects which are a physical representation of a class (user-defined data type) and we have to add two objects with binary '+' operator it throws an error, because compiler don't know how to add two objects. So we define a method for an operator and that process is called operator overloading."
   ]
  },
  {
   "cell_type": "markdown",
   "id": "a9b95d82",
   "metadata": {},
   "source": [
    "Q8. What is the most popular form of operator overloading?\n",
    "\n",
    "A very popular and convenient example is the Addition (+) operator. Just think how the '+' operator operates on two numbers and the same operator operates on two strings. It performs “Addition” on numbers whereas it performs “Concatenation” on strings."
   ]
  },
  {
   "cell_type": "markdown",
   "id": "14c4f4d3",
   "metadata": {},
   "source": [
    "Q9. What are the two most important concepts to grasp in order to comprehend Python OOP code?\n",
    "\n",
    "Inheritance and Polymorphism."
   ]
  }
 ],
 "metadata": {
  "kernelspec": {
   "display_name": "Python 3 (ipykernel)",
   "language": "python",
   "name": "python3"
  },
  "language_info": {
   "codemirror_mode": {
    "name": "ipython",
    "version": 3
   },
   "file_extension": ".py",
   "mimetype": "text/x-python",
   "name": "python",
   "nbconvert_exporter": "python",
   "pygments_lexer": "ipython3",
   "version": "3.9.7"
  }
 },
 "nbformat": 4,
 "nbformat_minor": 5
}
