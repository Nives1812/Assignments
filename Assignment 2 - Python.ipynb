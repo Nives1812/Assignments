{
 "cells": [
  {
   "cell_type": "markdown",
   "id": "1db7a3dc",
   "metadata": {},
   "source": [
    "1.What are the two values of the Boolean data type? How do you write them?\n",
    "\n",
    "True and False are the only two values of Boolean data type. We write them as True and False with capital t and F at the start. We can use the Boolean datatype using comparison operation and logic operation. True is equal to 1 and False = 0"
   ]
  },
  {
   "cell_type": "code",
   "execution_count": null,
   "id": "b2d71a86",
   "metadata": {},
   "outputs": [],
   "source": [
    "2. What are the three different types of Boolean operators?\n",
    "And, or, not are the three types of Boolean operators.\n"
   ]
  },
  {
   "cell_type": "code",
   "execution_count": null,
   "id": "0f852564",
   "metadata": {},
   "outputs": [],
   "source": [
    "3. Make a list of each Boolean operator's truth tables (i.e. every possible combination of Boolean values for the operator and what it evaluate ).\n",
    "\n",
    "Value 1 (V1)\tValue 2(V2)\tBoolean operator (AND) – V1 AND V2\n",
    "True\tTrue\tTrue\n",
    "True\tFalse\tFalse\n",
    "False\tTrue\tFalse\n",
    "False\tFalse\tFalse\n",
    "\n",
    "Value 1 (V1)\tValue 2(V2)\tBoolean operator (OR) – V1 AND V2\n",
    "True\tTrue\tTrue\n",
    "True\tFalse\tTrue\n",
    "False\tTrue\tTrue\n",
    "False\tFalse\tFalse\n",
    "\n",
    "Value 1 (V1)\tBoolean operator (NOT) – V1 \n",
    "True\tFalse\n",
    "False\tTrue\n"
   ]
  },
  {
   "cell_type": "code",
   "execution_count": null,
   "id": "f5d92147",
   "metadata": {},
   "outputs": [],
   "source": [
    "4. What are the values of the following expressions?\n",
    "\n",
    "(5 > 4) and (3 == 5) - False\n",
    "not (5 > 4) - False\n",
    "(5 > 4) or (3 == 5)- True\n",
    "not ((5 > 4) or (3 == 5)) - False\n",
    "(True and True) and (True == False) -  False\n",
    "(not False) or (not True) - True\n"
   ]
  },
  {
   "cell_type": "code",
   "execution_count": null,
   "id": "6cfc4f1e",
   "metadata": {},
   "outputs": [],
   "source": [
    "5. What are the six comparison operators?\n",
    "\n",
    "< (less than)\n",
    "> (greater than)\n",
    "== (equal to)\n",
    "!= (not equal to)\n",
    "<= (less than or equal to)\n",
    ">= (greater than or equal to)\n"
   ]
  },
  {
   "cell_type": "code",
   "execution_count": null,
   "id": "27685958",
   "metadata": {},
   "outputs": [],
   "source": [
    "6. How do you tell the difference between the equal to and assignment operators? Describe a condition and when you would use one.\n",
    "\n",
    "Equal is a comparison operator.  A condition to check if a is equal to b we use comparison operator. It returns true if comparison is correct and false when comparison is not correct.\n",
    "A = 5\n",
    "B = 8\n",
    "Print (A == B)\n",
    "Output: False\n",
    "Assignment operators assigns the value to the variable like in the below example. A +=5. In this assignment the value of 5 is added to the variable a and assigned back to the variable itself. If a is 10, 5 gets added and the new of value of a is assigned as 15."
   ]
  },
  {
   "cell_type": "code",
   "execution_count": null,
   "id": "4de8ae53",
   "metadata": {},
   "outputs": [],
   "source": [
    "7. Identify the three blocks in this code:\n",
    "spam = 0\n",
    "if spam == 10:\n",
    "print('eggs')\n",
    "if spam > 5:\n",
    "print('bacon')\n",
    "else:\n",
    "print('ham')\n",
    "print('spam')\n",
    "print('spam')\n",
    "\n",
    "Ans: print (‘eggs’), print(‘bacon’) and print(‘ham’)  are the three blocks in the given code.\n"
   ]
  },
  {
   "cell_type": "code",
   "execution_count": null,
   "id": "f1d6d422",
   "metadata": {},
   "outputs": [],
   "source": [
    "8. Write code that prints Hello if 1 is stored in spam, prints Howdy if 2 is stored in spam, and prints Greetings! if anything else is stored in spam.\n",
    "\n",
    "spam = int(input())\n",
    "if spam == 1:\n",
    "    print('Hello')\n",
    "elif spam == 2:\n",
    "    print('Howdy')\n",
    "else:\n",
    "    print('Greetings')\n"
   ]
  },
  {
   "cell_type": "code",
   "execution_count": null,
   "id": "03c8be65",
   "metadata": {},
   "outputs": [],
   "source": [
    "9.If your programme is stuck in an endless loop, what keys you’ll press?\n",
    "\n",
    "We can use the interrupt the kernel button (with stop symbol). We can also use Ctrl + C.\n"
   ]
  },
  {
   "cell_type": "code",
   "execution_count": null,
   "id": "b2782d86",
   "metadata": {},
   "outputs": [],
   "source": [
    "10. How can you tell the difference between break and continue?\n",
    "\n",
    "The break statement terminates all the iteration in a loop and exits the loop\n",
    "The continue skips the current iteration in the loop and does not exit the loop.\n"
   ]
  },
  {
   "cell_type": "code",
   "execution_count": null,
   "id": "ed3555b9",
   "metadata": {},
   "outputs": [],
   "source": [
    "11. In a for loop, what is the difference between range(10), range(0, 10), and range(0, 10, 1)?\n",
    "\n",
    "All three conditions will return the same output from 0 to 9. The difference is in the way the range function is represented. \n",
    "Range (10) has the stop value as 10 with the start value as 0 and interval as 1 by default.\n",
    "Range (0,10) has the start and stop value assigned as 0 and 10 respectively with interval of 1 between values.\n",
    "Range (0,10,1) has the start and stop value assigned as 0 and 10 respectively with the interval of 1 between each value in the range.\n"
   ]
  },
  {
   "cell_type": "code",
   "execution_count": null,
   "id": "73b6853b",
   "metadata": {},
   "outputs": [],
   "source": [
    "12. Write a short program that prints the numbers 1 to 10 using a for loop. Then write an equivalent program that prints the numbers 1 to 10 using a while loop.\n",
    "\n",
    "Using for loop:\n",
    "for a in range(1,10+1):\n",
    "    print (a)\n",
    "\n",
    "Using while loop:\n",
    "a = 1\n",
    "while (a <= 10):\n",
    "    print (a)\n",
    "    a+=1\n"
   ]
  },
  {
   "cell_type": "code",
   "execution_count": null,
   "id": "5ef8cc52",
   "metadata": {},
   "outputs": [],
   "source": [
    "13. If you had a function named bacon() inside a module named spam, how would you call it after importing spam?\n",
    "\n",
    "Import spam():\n",
    "spam.bacon()\n",
    "\n",
    "or\n",
    "\n",
    "from spam import bacon()\n"
   ]
  }
 ],
 "metadata": {
  "kernelspec": {
   "display_name": "Python 3 (ipykernel)",
   "language": "python",
   "name": "python3"
  },
  "language_info": {
   "codemirror_mode": {
    "name": "ipython",
    "version": 3
   },
   "file_extension": ".py",
   "mimetype": "text/x-python",
   "name": "python",
   "nbconvert_exporter": "python",
   "pygments_lexer": "ipython3",
   "version": "3.9.7"
  }
 },
 "nbformat": 4,
 "nbformat_minor": 5
}
