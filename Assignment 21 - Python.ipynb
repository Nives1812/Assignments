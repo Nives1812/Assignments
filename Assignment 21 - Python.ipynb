{
 "cells": [
  {
   "cell_type": "code",
   "execution_count": 1,
   "id": "0489d011",
   "metadata": {},
   "outputs": [],
   "source": [
    "#1. Add the current date to the text file today.txt as a string.\n",
    "import time\n",
    "from datetime import date\n",
    "current = date.today()\n",
    "current_date = current.isoformat()\n",
    "with open('today.txt', 'wt') as f:\n",
    "    print(current_date, file =f)"
   ]
  },
  {
   "cell_type": "code",
   "execution_count": 2,
   "id": "847d44b2",
   "metadata": {},
   "outputs": [
    {
     "data": {
      "text/plain": [
       "'2022-05-13\\n'"
      ]
     },
     "execution_count": 2,
     "metadata": {},
     "output_type": "execute_result"
    }
   ],
   "source": [
    "#2. Read the text file today.txt into the string today_string\n",
    "with open(\"today.txt\",'rt') as f:\n",
    "    today_string = f.read()\n",
    "today_string"
   ]
  },
  {
   "cell_type": "code",
   "execution_count": 3,
   "id": "8d188018",
   "metadata": {},
   "outputs": [
    {
     "data": {
      "text/plain": [
       "datetime.datetime(2022, 5, 13, 0, 0)"
      ]
     },
     "execution_count": 3,
     "metadata": {},
     "output_type": "execute_result"
    }
   ],
   "source": [
    "#3. Parse the date from today_string.\n",
    "import time\n",
    "from datetime import datetime\n",
    "fmt = '%Y-%m-%d\\n'\n",
    "datetime.strptime(today_string, fmt)"
   ]
  },
  {
   "cell_type": "code",
   "execution_count": 4,
   "id": "3450127f",
   "metadata": {},
   "outputs": [
    {
     "data": {
      "text/plain": [
       "['.ipynb_checkpoints',\n",
       " 'Assignment 1 - Python.ipynb',\n",
       " 'Assignment 10- Python.ipynb',\n",
       " 'Assignment 11- Python.ipynb',\n",
       " 'Assignment 12- Python.ipynb',\n",
       " 'Assignment 13- Python.ipynb',\n",
       " 'Assignment 14 - Python.ipynb',\n",
       " 'Assignment 15- Python.ipynb',\n",
       " 'Assignment 16 - Python.ipynb',\n",
       " 'Assignment 17 - Python.ipynb',\n",
       " 'Assignment 18 - Python.ipynb',\n",
       " 'Assignment 19 - Python.ipynb',\n",
       " 'Assignment 2.ipynb',\n",
       " 'Assignment 20 - Python.ipynb',\n",
       " 'Assignment 21 - Python.ipynb',\n",
       " 'Assignment 22 - Python.ipynb',\n",
       " 'Assignment 23 - Python.ipynb',\n",
       " 'Assignment 24 - Python.ipynb',\n",
       " 'Assignment 25 - Python.ipynb',\n",
       " 'Assignment 3 -Python.ipynb',\n",
       " 'Assignment 4- Python.ipynb',\n",
       " 'Assignment 5- Python.ipynb',\n",
       " 'Assignment 6 - Python.ipynb',\n",
       " 'Assignment 7 - Python.ipynb',\n",
       " 'Assignment 8 - Python.ipynb',\n",
       " 'Assignment 9-Python.ipynb',\n",
       " 'books.csv',\n",
       " 'books.db',\n",
       " 'hellothere.docx',\n",
       " 'test.txt',\n",
       " 'today.txt']"
      ]
     },
     "execution_count": 4,
     "metadata": {},
     "output_type": "execute_result"
    }
   ],
   "source": [
    "#4. List the files in your current directory\n",
    "import os\n",
    "os.listdir('.')"
   ]
  },
  {
   "cell_type": "code",
   "execution_count": 5,
   "id": "2a1717a4",
   "metadata": {},
   "outputs": [
    {
     "data": {
      "text/plain": [
       "['.conda',\n",
       " '.condarc',\n",
       " '.continuum',\n",
       " '.cufflinks',\n",
       " '.ipynb_checkpoints',\n",
       " '.ipython',\n",
       " '.jupyter',\n",
       " '.matplotlib',\n",
       " '05th  Mar- Pandas assignment.ipynb',\n",
       " '10th class- functions and comprehension.ipynb',\n",
       " '11th class- generator, file system.ipynb',\n",
       " '12th and 13th class-Exceptional handling, logging.ipynb',\n",
       " '13 Feb Mongo Db.ipynb',\n",
       " '13th class-Logging .ipynb',\n",
       " '14th 22 & 23Jan Oops concept.ipynb',\n",
       " '14th class-22 Jan modules and packages.ipynb',\n",
       " '15th class-29 Jan - Inheritance, incapsulation, polymorphism.ipynb',\n",
       " '16-30th Jan OOPS, polymorphism.ipynb',\n",
       " '17th class - SQL through python 05 Feb.ipynb',\n",
       " '19.3.1 mongoDB introduction.ipynb',\n",
       " '19.3.2 pyMongo.ipynb',\n",
       " '19.3.3 Atlas.ipynb',\n",
       " '21st class- 26th and 27th Feb - Pandas.ipynb',\n",
       " '22nd class - 05th Mar- Pandas.ipynb',\n",
       " '23 Jan.ipynb',\n",
       " '24th class- 06 Mar- Pandas and Numpy.ipynb',\n",
       " '25th class- 13 Mar - Numpy.ipynb',\n",
       " '26 Feb - cassnadra erroe and class stoped.ipynb',\n",
       " '26th class- 26 Mar - Graph.ipynb',\n",
       " '27th class- 27 Mar- Graph.ipynb',\n",
       " '28th class- 03 April - Flask,Pycharm, postman.ipynb',\n",
       " '29th class- 09 Apr 2022-Python project.ipynb',\n",
       " '2nd, 3rd and 4th class.ipynb',\n",
       " '30th class- 09 Apr- Python project.ipynb',\n",
       " '3D Objects',\n",
       " '5th class- Tuples, set.ipynb',\n",
       " '6th class- if else, while, for loop .ipynb',\n",
       " '7th class- for loop,while.ipynb',\n",
       " '8th class- co.ipynb',\n",
       " '9th class-dec 23-concept of functions, comprehensions.ipynb',\n",
       " 'AppData',\n",
       " 'Application Data',\n",
       " 'Assignments',\n",
       " 'Book1.csv',\n",
       " 'Class work',\n",
       " 'Contacts',\n",
       " 'Cookies',\n",
       " 'DECLARATION.doc',\n",
       " 'Desktop',\n",
       " 'Documents',\n",
       " 'Downloads',\n",
       " 'Favorites',\n",
       " 'First class.ipynb',\n",
       " 'glass.data',\n",
       " 'google.txt',\n",
       " 'ineuron.db',\n",
       " 'jobdb.db',\n",
       " 'json_response.csv',\n",
       " 'jupyter',\n",
       " 'Links',\n",
       " 'Local Settings',\n",
       " 'Music',\n",
       " 'My Documents',\n",
       " 'mydict.py',\n",
       " 'myimage.jpg',\n",
       " 'my_module.py',\n",
       " 'NBA.csv',\n",
       " 'NetHood',\n",
       " 'NTUSER.DAT',\n",
       " 'ntuser.dat.LOG1',\n",
       " 'ntuser.dat.LOG2',\n",
       " 'NTUSER.DAT{53b39e88-18c4-11ea-a811-000d3aa4692b}.TM.blf',\n",
       " 'NTUSER.DAT{53b39e88-18c4-11ea-a811-000d3aa4692b}.TMContainer00000000000000000001.regtrans-ms',\n",
       " 'NTUSER.DAT{53b39e88-18c4-11ea-a811-000d3aa4692b}.TMContainer00000000000000000002.regtrans-ms',\n",
       " 'ntuser.ini',\n",
       " 'OneDrive',\n",
       " 'person.db',\n",
       " 'Pictures',\n",
       " 'Postman',\n",
       " 'PrintHood',\n",
       " 'PycharmProjects',\n",
       " 'Recent',\n",
       " 'Revision classes',\n",
       " 'Saved Games',\n",
       " 'seaborn-data',\n",
       " 'Searches',\n",
       " 'SendTo',\n",
       " 'SQL LITE, map, reduce, filter.ipynb',\n",
       " 'SQL.ipynb',\n",
       " 'Start Menu',\n",
       " 'Templates',\n",
       " 'test.log',\n",
       " 'test.txt',\n",
       " 'test1.py',\n",
       " 'test1.txt',\n",
       " 'test2.log',\n",
       " 'test2.txt',\n",
       " 'test3.log',\n",
       " 'test4.log',\n",
       " 'test43.txt',\n",
       " 'Tracing',\n",
       " 'Trial programs 1.ipynb',\n",
       " 'untitled.txt',\n",
       " 'Untitled1.ipynb',\n",
       " 'Videos',\n",
       " '__pycache__']"
      ]
     },
     "execution_count": 5,
     "metadata": {},
     "output_type": "execute_result"
    }
   ],
   "source": [
    "#5. Create a list of all of the files in your parent directory (minimum five files should be available).\n",
    "os.listdir(\"..\")"
   ]
  },
  {
   "cell_type": "code",
   "execution_count": null,
   "id": "aa442af2",
   "metadata": {},
   "outputs": [],
   "source": [
    "#6. Use multiprocessing to create three separate processes. Make each one wait a random number of seconds between one and five, print the current time, and then exit.\n",
    "\n",
    "!pip install zoo\n",
    "import multiprocessing, time, datetime\n",
    "from zoo import zoo\n",
    "\n",
    "\n",
    "def process1():\n",
    "    t1 = random.randint(1,5)\n",
    "    print(\"Waiting for \"+str(t1)+\" seconds\")\n",
    "    time.sleep(t1)\n",
    "    print(datetime.datetime.now())\n",
    "    \n",
    "start = time.time()\n",
    "process1 = zoo.process1()\n",
    "process2 = zoo.process1()\n",
    "process3 = zoo.process1()\n",
    "\n",
    "print(datetime.datetime.now())\n",
    "if __name__==\"__main__\":\n",
    "    \n",
    "    \n",
    "    \n",
    "    p1 = multiprocessing.Process(target=process1)\n",
    "    p2 = multiprocessing.Process(target=process2)\n",
    "    p3 = multiprocessing.Process(target=process3)\n",
    "\n",
    "    p1.start()\n",
    "    p2.start()\n",
    "    p3.start()\n",
    "\n",
    "    p1.join()\n",
    "    p2.join()\n",
    "    p3.join()\n",
    "\n",
    "end = time.time()\n",
    "    \n",
    "\n",
    "print(\"It takes \" +str(end-start)+\" seconds\")\n"
   ]
  },
  {
   "cell_type": "code",
   "execution_count": 6,
   "id": "32b012b4",
   "metadata": {},
   "outputs": [
    {
     "data": {
      "text/plain": [
       "datetime.date(1992, 12, 18)"
      ]
     },
     "execution_count": 6,
     "metadata": {},
     "output_type": "execute_result"
    }
   ],
   "source": [
    "#7. Create a date object of your day of birth.\n",
    "my_day = date(1992, 12, 18)\n",
    "my_day"
   ]
  },
  {
   "cell_type": "code",
   "execution_count": 7,
   "id": "1c63d3b3",
   "metadata": {},
   "outputs": [
    {
     "data": {
      "text/plain": [
       "4"
      ]
     },
     "execution_count": 7,
     "metadata": {},
     "output_type": "execute_result"
    }
   ],
   "source": [
    "#8. What day of the week was your day of birth?\n",
    "my_day.weekday()\n",
    "#weekday(), Monday is 0 and sunday is 6. Therefore, this date is a Friday."
   ]
  },
  {
   "cell_type": "code",
   "execution_count": 8,
   "id": "931756ae",
   "metadata": {},
   "outputs": [
    {
     "data": {
      "text/plain": [
       "datetime.date(2020, 5, 5)"
      ]
     },
     "execution_count": 8,
     "metadata": {},
     "output_type": "execute_result"
    }
   ],
   "source": [
    "#9. When will you be (or when were you) 10,000 days old?\n",
    "from datetime import timedelta\n",
    "ten_thous = my_day + timedelta(days=10000)\n",
    "ten_thous"
   ]
  },
  {
   "cell_type": "code",
   "execution_count": null,
   "id": "c456a837",
   "metadata": {},
   "outputs": [],
   "source": []
  }
 ],
 "metadata": {
  "kernelspec": {
   "display_name": "Python 3 (ipykernel)",
   "language": "python",
   "name": "python3"
  },
  "language_info": {
   "codemirror_mode": {
    "name": "ipython",
    "version": 3
   },
   "file_extension": ".py",
   "mimetype": "text/x-python",
   "name": "python",
   "nbconvert_exporter": "python",
   "pygments_lexer": "ipython3",
   "version": "3.9.7"
  }
 },
 "nbformat": 4,
 "nbformat_minor": 5
}
