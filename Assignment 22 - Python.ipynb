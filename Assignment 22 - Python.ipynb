{
 "cells": [
  {
   "cell_type": "code",
   "execution_count": 2,
   "id": "1595a867",
   "metadata": {},
   "outputs": [
    {
     "name": "stdout",
     "output_type": "stream",
     "text": [
      "iNeuron\n"
     ]
    }
   ],
   "source": [
    "#1. What is the result of the code, and explain?\n",
    "\n",
    "X = 'iNeuron'\n",
    "def func():\n",
    "    print(X)\n",
    "\n",
    "func()\n",
    "# iNeurin has been assigned to a variable X. And it is printed using the function named func() \n",
    "# As the func can be called as many times as required inorder to print the variable X."
   ]
  },
  {
   "cell_type": "code",
   "execution_count": 6,
   "id": "c03fb36d",
   "metadata": {},
   "outputs": [
    {
     "name": "stdout",
     "output_type": "stream",
     "text": [
      "iNeuron\n"
     ]
    }
   ],
   "source": [
    "#2. What is the result of the code, and explain?\n",
    "\n",
    "X = 'iNeuron'\n",
    "def func():\n",
    "    X = 'NI!'\n",
    "\n",
    "func()\n",
    "print(X)\n",
    "#The call of func() does not print a result as the the value of X is not printed inside the function\n",
    "#The result is iNeuron as the print function is outside the function and the assigned value for X outside function is iNeuron\n"
   ]
  },
  {
   "cell_type": "code",
   "execution_count": 7,
   "id": "460c9c95",
   "metadata": {},
   "outputs": [
    {
     "name": "stdout",
     "output_type": "stream",
     "text": [
      "NI\n",
      "iNeuron\n"
     ]
    }
   ],
   "source": [
    "#3. What does this code print, and why?\n",
    "X = 'iNeuron'\n",
    "def func():\n",
    "    X = 'NI'\n",
    "    print(X)\n",
    "func()\n",
    "print(X)\n",
    "\n",
    "#The call of func() does prints NI, as the the value of X is printed inside the function\n",
    "#The result is iNeuron as the print function is outside the function and the assigned value for X outside the function is iNeuron\n"
   ]
  },
  {
   "cell_type": "code",
   "execution_count": 8,
   "id": "b7738229",
   "metadata": {},
   "outputs": [
    {
     "name": "stdout",
     "output_type": "stream",
     "text": [
      "NI\n"
     ]
    }
   ],
   "source": [
    "#4. What output does this code produce? Why?\n",
    "\n",
    "X = 'iNeuron'\n",
    "def func():\n",
    "    global X\n",
    "    X = 'NI'\n",
    "func()\n",
    "print(X)\n",
    "\n",
    "#The func() Call the function defined with X= \"NI\" inside function however doesn't print it inside the function. Also the global keyword used allows us to modify the variable, that is \"X\", outside of the current function.\n",
    "\n",
    "#The line, print(X), prints the value of X, which is now \"NI\", as we used global keyword inside the function."
   ]
  },
  {
   "cell_type": "code",
   "execution_count": 11,
   "id": "6806e0bc",
   "metadata": {},
   "outputs": [
    {
     "name": "stdout",
     "output_type": "stream",
     "text": [
      "iNeuron\n"
     ]
    }
   ],
   "source": [
    "#5. What about this code—what’s the output, and why?\n",
    "\n",
    "X = 'iNeuron'\n",
    "def func():\n",
    "    X = 'NI'\n",
    "def nested():\n",
    "    print(X)\n",
    "nested()\n",
    "#this prints X which is iNeuron here as the function nested prints the value of X"
   ]
  },
  {
   "cell_type": "code",
   "execution_count": 12,
   "id": "48109176",
   "metadata": {},
   "outputs": [],
   "source": [
    "func()\n",
    "#call of func() doesn't return a value as the value of variable X is not printed inside the function"
   ]
  },
  {
   "cell_type": "code",
   "execution_count": 13,
   "id": "5bbbeb77",
   "metadata": {},
   "outputs": [
    {
     "data": {
      "text/plain": [
       "'iNeuron'"
      ]
     },
     "execution_count": 13,
     "metadata": {},
     "output_type": "execute_result"
    }
   ],
   "source": [
    "X\n",
    "#this prints value of X as the value of X defined outside all function is iNeuron"
   ]
  },
  {
   "cell_type": "code",
   "execution_count": 18,
   "id": "5812f059",
   "metadata": {},
   "outputs": [],
   "source": [
    "#6. How about this code: what is its output in Python 3, and explain?\n",
    "\n",
    "def func():\n",
    "    X = 'NI'\n",
    "    def nested():\n",
    "        nonlocal X\n",
    "        X = 'Spam'\n",
    "    nested()\n",
    "    #This doesn't return a value as there is no print statement inside the nested fucntion"
   ]
  },
  {
   "cell_type": "code",
   "execution_count": 19,
   "id": "e54718f3",
   "metadata": {},
   "outputs": [
    {
     "name": "stdout",
     "output_type": "stream",
     "text": [
      "iNeuron\n"
     ]
    }
   ],
   "source": [
    "print(X)\n",
    "#This prints the value of X outside the fucntion as the nonloacl keyword is used to work with variables inside the nested functions."
   ]
  },
  {
   "cell_type": "code",
   "execution_count": 21,
   "id": "1649f436",
   "metadata": {},
   "outputs": [],
   "source": [
    "func()\n",
    "#doesn't print a value as the function doesn't have a print statement"
   ]
  },
  {
   "cell_type": "code",
   "execution_count": null,
   "id": "114b0896",
   "metadata": {},
   "outputs": [],
   "source": []
  }
 ],
 "metadata": {
  "kernelspec": {
   "display_name": "Python 3 (ipykernel)",
   "language": "python",
   "name": "python3"
  },
  "language_info": {
   "codemirror_mode": {
    "name": "ipython",
    "version": 3
   },
   "file_extension": ".py",
   "mimetype": "text/x-python",
   "name": "python",
   "nbconvert_exporter": "python",
   "pygments_lexer": "ipython3",
   "version": "3.9.7"
  }
 },
 "nbformat": 4,
 "nbformat_minor": 5
}
