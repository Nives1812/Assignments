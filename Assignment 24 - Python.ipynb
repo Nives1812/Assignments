{
 "cells": [
  {
   "cell_type": "markdown",
   "id": "c340c2c6",
   "metadata": {},
   "source": [
    "1. What is the relationship between def statements and lambda expressions ?\n",
    "Lambda returns a value that can optionally be assigned a name and usually are single statements.\n",
    "While, def statements always assign the function to the name in the header(returned as a result)."
   ]
  },
  {
   "cell_type": "markdown",
   "id": "6f8b712a",
   "metadata": {},
   "source": [
    "2. What is the benefit of lambda?\n",
    "The lambda keyword in Python provides a shortcut for declaring small anonymous functions. Lambda functions behave just like regular functions declared with the def keyword. They can be used whenever function objects are required."
   ]
  },
  {
   "cell_type": "markdown",
   "id": "3528523d",
   "metadata": {},
   "source": [
    "3. Compare and contrast map, filter, and reduce.\n",
    "Map function accepts another function and a sequence of 'iterables' as parameters and provides output after applying function to each iterable in the sequence. Both user defined and lambda functions  can be sent to map functions.\n",
    "\n",
    "Filter function is used to generate an output list of values that return true when the function is called. It takes both user defined and lambda functions as parameters.\n",
    "\n",
    "Reduce function applies a provided function to 'iterables' and returns a single value. The function specifies which expression should be applied to the ‘iterables’ in this case. The function tools module must be used to import this function."
   ]
  },
  {
   "cell_type": "markdown",
   "id": "e2984e11",
   "metadata": {},
   "source": [
    "4. What are function annotations, and how are they used?\n",
    "Function annotations are arbitrary python expressions that are associated with various part of functions. These expressions are evaluated at compile time and have no life in python's runtime environment. Python does not attach any meaning to these annotations\n",
    "Syntax of function annotations for simple parameters and for excess parameters respectively:\n",
    "def foobar(a: expression, b: expression = 5):\n",
    "def foobar(args: expression, kwargs: expression):"
   ]
  },
  {
   "cell_type": "code",
   "execution_count": 2,
   "id": "1808da5d",
   "metadata": {},
   "outputs": [
    {
     "name": "stdout",
     "output_type": "stream",
     "text": [
      "55\n"
     ]
    }
   ],
   "source": [
    "#5. What are recursive functions, and how are they used?\n",
    "\"\"\"A recursive function is a function defined in terms of itself via self-referential expressions. This means that the function will continue to call itself and repeat its behavior until some condition is met to return a result.\"\"\"\n",
    "\n",
    "def sum(n):\n",
    "    total = 0\n",
    "    for index in range(n+1):\n",
    "        total += index\n",
    "    return total\n",
    "result = sum(10)\n",
    "print(result)"
   ]
  },
  {
   "cell_type": "markdown",
   "id": "14d1033a",
   "metadata": {},
   "source": [
    "#6. What are some general design guidelines for coding functions?\n",
    "*Use 4 spaces instead of tabs.\n",
    "*Maximum line length is 120 symbols.\n",
    "*2 blank lines between classes and functions.\n",
    "*1 blank line within class between class methods.\n",
    "*No blank line following a def line.\n",
    "*No whitespace inside parentheses, brackets, or braces.\n"
   ]
  },
  {
   "cell_type": "markdown",
   "id": "c24cd599",
   "metadata": {},
   "source": [
    "7. Name three or more ways that functions can communicate results to a caller.\n",
    "\n",
    "To call a function, we specify the function name with the round brackets.\n",
    "Use of return keyword inside function which returns the results to the caller.\n",
    "Use of print statement inside function which prints the results to the caller."
   ]
  }
 ],
 "metadata": {
  "kernelspec": {
   "display_name": "Python 3 (ipykernel)",
   "language": "python",
   "name": "python3"
  },
  "language_info": {
   "codemirror_mode": {
    "name": "ipython",
    "version": 3
   },
   "file_extension": ".py",
   "mimetype": "text/x-python",
   "name": "python",
   "nbconvert_exporter": "python",
   "pygments_lexer": "ipython3",
   "version": "3.9.7"
  }
 },
 "nbformat": 4,
 "nbformat_minor": 5
}
