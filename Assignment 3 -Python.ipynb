{
 "cells": [
  {
   "cell_type": "markdown",
   "id": "df662d06",
   "metadata": {},
   "source": []
  },
  {
   "cell_type": "code",
   "execution_count": null,
   "id": "8a9776fa",
   "metadata": {},
   "outputs": [],
   "source": [
    "1. Why are functions advantageous to have in your programs?\n",
    "\n",
    "Functions reduce the task of writing the same code again and again in the program. Function can be defined once and can be used by the function call as and when required. Thus function makes our task simple and easier ."
   ]
  },
  {
   "cell_type": "code",
   "execution_count": null,
   "id": "c06f88ee",
   "metadata": {},
   "outputs": [],
   "source": [
    "2. When does the code in a function run: when it's specified or when it's called?\n",
    "\n",
    "The code is executed on the function call."
   ]
  },
  {
   "cell_type": "code",
   "execution_count": null,
   "id": "40396e0b",
   "metadata": {},
   "outputs": [],
   "source": [
    "3. What statement creates a function?\n",
    "\n",
    "The keyword ‘def’ before the name of the function followed by ‘ : ’ creates a function."
   ]
  },
  {
   "cell_type": "code",
   "execution_count": null,
   "id": "a2b258fe",
   "metadata": {},
   "outputs": [],
   "source": [
    "4. What is the difference between a function and a function call?\n",
    "\n",
    "Function is the procedure part of the code/program. It contains the necessary statements and conditions for the expected output.\n",
    "Function call the actual execution part. Once a function is called, the wriiten code is executed to render an output."
   ]
  },
  {
   "cell_type": "code",
   "execution_count": null,
   "id": "1b66634d",
   "metadata": {},
   "outputs": [],
   "source": [
    "5. How many global scopes are there in a Python program? How many local scopes?\n",
    "\n",
    "The scope of global variable appears only once in a program and is available to every function. \n",
    "The local variable can have multiple scopes based on the number of times the variable is called before the end of that particular function. The availability of the local variable is only within the function."
   ]
  },
  {
   "cell_type": "code",
   "execution_count": null,
   "id": "3183b3f4",
   "metadata": {},
   "outputs": [],
   "source": [
    "6. What happens to variables in a local scope when the function call returns?\n",
    "\n",
    "The local variables disappear after the function execution ends."
   ]
  },
  {
   "cell_type": "code",
   "execution_count": null,
   "id": "6007619f",
   "metadata": {},
   "outputs": [],
   "source": [
    "7. What is the concept of a return value? Is it possible to have a return value in an expression?\n",
    "\n",
    "Return statement returns the value of the expression after the return statement and it ends the execution of the function.\n",
    "Yes, return value can be used in a logical expression.\n"
   ]
  },
  {
   "cell_type": "code",
   "execution_count": null,
   "id": "5de9d231",
   "metadata": {},
   "outputs": [],
   "source": [
    "8. If a function does not have a return statement, what is the return value of a call to that function?\n",
    "\n",
    "The return value of a call to a function without return statement is ‘undefined’.\n"
   ]
  },
  {
   "cell_type": "code",
   "execution_count": null,
   "id": "8999cd6e",
   "metadata": {},
   "outputs": [],
   "source": [
    "9. How do you make a function variable refer to the global variable?\n",
    "\n",
    "Use the keyword ‘global’ before the variable.\n"
   ]
  },
  {
   "cell_type": "code",
   "execution_count": null,
   "id": "a20aec81",
   "metadata": {},
   "outputs": [],
   "source": [
    "10. What is the data type of None?\n",
    "\n",
    "It is a datatype of the class Nonetype object. It is used to define null value.\n"
   ]
  },
  {
   "cell_type": "code",
   "execution_count": null,
   "id": "c8ffbf46",
   "metadata": {},
   "outputs": [],
   "source": [
    "11. What does the sentence import areallyourpetsnamederic do?\n",
    "\n",
    "The statement imports the module named areallyourpetsnamederic.\n"
   ]
  },
  {
   "cell_type": "code",
   "execution_count": null,
   "id": "c37e7962",
   "metadata": {},
   "outputs": [],
   "source": [
    "12. If you had a bacon() feature in a spam module, what would you call it after importing spam?\n",
    "\n",
    "Spam.bacon()\n",
    "\n",
    "Or\n",
    "\n",
    "From spam import bacon()\n"
   ]
  },
  {
   "cell_type": "code",
   "execution_count": null,
   "id": "53706d8a",
   "metadata": {},
   "outputs": [],
   "source": [
    "13. What can you do to save a programme from crashing if it encounters an error?\n",
    "\n",
    "Using Exception handling will help us save the programme from crashing when there is an error.\n"
   ]
  },
  {
   "cell_type": "code",
   "execution_count": null,
   "id": "4349a252",
   "metadata": {},
   "outputs": [],
   "source": [
    "14. What is the purpose of the try clause? What is the purpose of the except clause?\n",
    "\n",
    "Try clause helps to test any error code written with in the try block. Except clause helps to handle the error code written in the try block. If there is any error, the code with in try block is interrupted and the except block will be executed. If there is no error, except block will not be executed.\n"
   ]
  },
  {
   "cell_type": "code",
   "execution_count": null,
   "id": "370e7dbc",
   "metadata": {},
   "outputs": [],
   "source": []
  },
  {
   "cell_type": "code",
   "execution_count": null,
   "id": "fe2a115d",
   "metadata": {},
   "outputs": [],
   "source": []
  }
 ],
 "metadata": {
  "kernelspec": {
   "display_name": "Python 3 (ipykernel)",
   "language": "python",
   "name": "python3"
  },
  "language_info": {
   "codemirror_mode": {
    "name": "ipython",
    "version": 3
   },
   "file_extension": ".py",
   "mimetype": "text/x-python",
   "name": "python",
   "nbconvert_exporter": "python",
   "pygments_lexer": "ipython3",
   "version": "3.9.7"
  }
 },
 "nbformat": 4,
 "nbformat_minor": 5
}
