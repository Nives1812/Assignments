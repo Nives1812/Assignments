{
 "cells": [
  {
   "cell_type": "markdown",
   "id": "6ad70284",
   "metadata": {},
   "source": [
    "1. What exactly is []?\n",
    "These are square brackets used to create list. Generally [] is used to create a empty list, a list which has no value.\n"
   ]
  },
  {
   "cell_type": "code",
   "execution_count": 4,
   "id": "ae0a988f",
   "metadata": {},
   "outputs": [
    {
     "name": "stdout",
     "output_type": "stream",
     "text": [
      "[2, 4, 'hello', 6, 8, 10]\n"
     ]
    }
   ],
   "source": [
    "#2. In a list of values stored in a variable called spam, how would you assign the value 'hello' as the third value? (Assume [2, 4, 6, 8, 10] are in spam.)\n",
    "spam=[2, 4, 6, 8, 10]\n",
    "spam.insert(2, 'hello')\n",
    "print (spam)"
   ]
  },
  {
   "cell_type": "code",
   "execution_count": 10,
   "id": "892d074b",
   "metadata": {},
   "outputs": [
    {
     "name": "stdout",
     "output_type": "stream",
     "text": [
      "d\n"
     ]
    }
   ],
   "source": [
    "#Let's pretend the spam includes the list ['a', 'b', 'c', 'd'] for the next three queries.\n",
    "#3. What is the value of spam[int(int('3' * 2) / 11)]?\n",
    "spam = ['a','b','c','d']\n",
    "print (spam[int(int('3'*2)/11)])\n",
    "#the expression ('3'*2)/11 gives 33/11=3, hence the output is d."
   ]
  },
  {
   "cell_type": "code",
   "execution_count": 8,
   "id": "6c81a085",
   "metadata": {},
   "outputs": [
    {
     "name": "stdout",
     "output_type": "stream",
     "text": [
      "d\n"
     ]
    }
   ],
   "source": [
    "#4. What is the value of spam[-1]?\n",
    "spam = ['a','b','c','d']\n",
    "print(spam[-1])"
   ]
  },
  {
   "cell_type": "code",
   "execution_count": 9,
   "id": "b3ab9060",
   "metadata": {},
   "outputs": [
    {
     "name": "stdout",
     "output_type": "stream",
     "text": [
      "['a', 'b']\n"
     ]
    }
   ],
   "source": [
    "#5. What is the value of spam[:2]?\n",
    "spam = ['a','b','c','d']\n",
    "print(spam[:2])"
   ]
  },
  {
   "cell_type": "code",
   "execution_count": 17,
   "id": "6bdb5933",
   "metadata": {},
   "outputs": [
    {
     "name": "stdout",
     "output_type": "stream",
     "text": [
      "1\n"
     ]
    }
   ],
   "source": [
    "#Let's pretend bacon has the list [3.14, 'cat,' 11, 'cat,' True] for the next three questions.\n",
    "#6. What is the value of bacon.index('cat')?\n",
    "bacon = [3.14, 'cat', 11, 'cat', True]\n",
    "print(bacon.index('cat'))\n"
   ]
  },
  {
   "cell_type": "code",
   "execution_count": 19,
   "id": "e6691ec6",
   "metadata": {},
   "outputs": [
    {
     "name": "stdout",
     "output_type": "stream",
     "text": [
      "[3.14, 'cat', 11, 'cat', True, 99]\n"
     ]
    }
   ],
   "source": [
    "#7. How does bacon.append(99) change the look of the list value in bacon?\n",
    "bacon = [3.14, 'cat', 11, 'cat', True]\n",
    "bacon.append(99)\n",
    "print(bacon)"
   ]
  },
  {
   "cell_type": "code",
   "execution_count": 20,
   "id": "70f6b826",
   "metadata": {},
   "outputs": [
    {
     "name": "stdout",
     "output_type": "stream",
     "text": [
      "[3.14, 11, 'cat', True]\n"
     ]
    }
   ],
   "source": [
    "#8. How does bacon.remove('cat') change the look of the list in bacon?\n",
    "bacon = [3.14, 'cat', 11, 'cat', True]\n",
    "bacon.remove('cat')\n",
    "print(bacon)"
   ]
  },
  {
   "cell_type": "markdown",
   "id": "14ffcc4a",
   "metadata": {},
   "source": [
    "9. What are the list concatenation and list replication operators?\n",
    "For list concatenation we use '+' symbol and for replication we use '*' symbol."
   ]
  },
  {
   "cell_type": "markdown",
   "id": "ffcbff01",
   "metadata": {},
   "source": [
    "10. What is difference between the list methods append() and insert()?\n",
    "Insert() will add data at any required position/index as directed by user, while append will add the data only at the end of the list."
   ]
  },
  {
   "cell_type": "markdown",
   "id": "52129592",
   "metadata": {},
   "source": [
    "11. What are the two methods for removing items from a list?\n",
    "remove() and del are the two ways to remove items from the list."
   ]
  },
  {
   "cell_type": "markdown",
   "id": "d4757ae7",
   "metadata": {},
   "source": [
    "12. Describe how list values and string values are identical.\n",
    "list va;lues and string values can be concatenated, replicated, be used in for loops, in and not operators, passed to len(), indexed and slices operations can be performed."
   ]
  },
  {
   "cell_type": "markdown",
   "id": "cd0dc7b0",
   "metadata": {},
   "source": [
    "13. What's the difference between tuples and lists?\n",
    "Lists are mutable while tuples are immutable(no changes can be made in terms of value addition, removal or change).\n",
    "Lists are assigned with in square brackets[] while tuples are assigned with in parentheses()."
   ]
  },
  {
   "cell_type": "markdown",
   "id": "f6f9996c",
   "metadata": {},
   "source": [
    "14. How do you type a tuple value that only contains the integer 42?\n",
    "(42,)"
   ]
  },
  {
   "cell_type": "markdown",
   "id": "dc508bed",
   "metadata": {},
   "source": [
    "15. How do you get a list value's tuple form? How do you get a tuple value's list form?\n",
    "With the help of tuple() to get tuple form of list and list() function to get list form of tuple."
   ]
  },
  {
   "cell_type": "markdown",
   "id": "46310727",
   "metadata": {},
   "source": [
    "16. Variables that \"contain\" list values are not necessarily lists themselves. Instead, what do they contain?\n",
    "They are the references to list values."
   ]
  },
  {
   "cell_type": "markdown",
   "id": "69d429ad",
   "metadata": {},
   "source": [
    "17. How do you distinguish between copy.copy() and copy.deepcopy()?\n",
    "the copy.copy () function will do a shallow copy of a list. while the copy.deepcopy() function will do a deep copy of a list. copy.deepcopy will duplicate any lists inside the list."
   ]
  },
  {
   "cell_type": "code",
   "execution_count": null,
   "id": "2f9f4d91",
   "metadata": {},
   "outputs": [],
   "source": []
  },
  {
   "cell_type": "code",
   "execution_count": null,
   "id": "776c8fc4",
   "metadata": {},
   "outputs": [],
   "source": []
  }
 ],
 "metadata": {
  "kernelspec": {
   "display_name": "Python 3 (ipykernel)",
   "language": "python",
   "name": "python3"
  },
  "language_info": {
   "codemirror_mode": {
    "name": "ipython",
    "version": 3
   },
   "file_extension": ".py",
   "mimetype": "text/x-python",
   "name": "python",
   "nbconvert_exporter": "python",
   "pygments_lexer": "ipython3",
   "version": "3.9.7"
  }
 },
 "nbformat": 4,
 "nbformat_minor": 5
}
