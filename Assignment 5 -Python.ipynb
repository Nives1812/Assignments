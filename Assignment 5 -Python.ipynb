{
 "cells": [
  {
   "cell_type": "markdown",
   "id": "15c53c59",
   "metadata": {},
   "source": [
    "1. What does an empty dictionary's code look like?\n",
    "Empty dictionary code will be just two curly brackets:{}"
   ]
  },
  {
   "cell_type": "markdown",
   "id": "d37c1148",
   "metadata": {},
   "source": [
    "2. What is the value of a dictionary value with the key 'foo' and the value 42?\n",
    "{'foo':42}"
   ]
  },
  {
   "cell_type": "markdown",
   "id": "1a2d6eb6",
   "metadata": {},
   "source": [
    "3. What is the most significant distinction between a dictionary and a list?\n",
    "List will have only values and they are ordered items, while dictionary will have key-value pair and the items are unordered."
   ]
  },
  {
   "cell_type": "markdown",
   "id": "fedf35c6",
   "metadata": {},
   "source": [
    "4. What happens if you try to access spam['foo'] if spam is {'bar': 100}?\n",
    "Keyword foo is not defined hence the program throws a keyerror."
   ]
  },
  {
   "cell_type": "markdown",
   "id": "b191628f",
   "metadata": {},
   "source": [
    "5. If a dictionary is stored in spam, what is the difference between the expressions 'cat' in spam and 'cat' in spam.keys()?\n",
    "The in operator checks if there is key value 'cat' exists in the dictionary. Hence there is no difference between the expressions."
   ]
  },
  {
   "cell_type": "markdown",
   "id": "1dc97ee7",
   "metadata": {},
   "source": [
    "6. If a dictionary is stored in spam, what is the difference between the expressions 'cat' in spam and 'cat' in spam.values()?\n",
    "'cat' in spam checks whether there is a 'cat' key in the dictionary. And 'cat' in spam.values() check if the item 'cat' exists as values of a key in spam."
   ]
  },
  {
   "cell_type": "markdown",
   "id": "790930c6",
   "metadata": {},
   "source": [
    "7. What is a shortcut for the following code?\n",
    "if 'color' not in spam:\n",
    "spam['color'] = 'black'\n",
    "spam.setdefault('color','black')"
   ]
  },
  {
   "cell_type": "code",
   "execution_count": null,
   "id": "0302b391",
   "metadata": {},
   "outputs": [],
   "source": [
    "8. How do you \"pretty print\" dictionary values using which module and function?"
   ]
  }
 ],
 "metadata": {
  "kernelspec": {
   "display_name": "Python 3 (ipykernel)",
   "language": "python",
   "name": "python3"
  },
  "language_info": {
   "codemirror_mode": {
    "name": "ipython",
    "version": 3
   },
   "file_extension": ".py",
   "mimetype": "text/x-python",
   "name": "python",
   "nbconvert_exporter": "python",
   "pygments_lexer": "ipython3",
   "version": "3.9.7"
  }
 },
 "nbformat": 4,
 "nbformat_minor": 5
}
