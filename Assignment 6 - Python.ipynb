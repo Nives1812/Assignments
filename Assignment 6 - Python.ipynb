{
 "cells": [
  {
   "cell_type": "markdown",
   "id": "eb92c64e",
   "metadata": {},
   "source": [
    "1. What are escape characters, and how do you use them?\n",
    "Escape characters are special characters denoted by \"\\\" (backslash), it stops the compiler from accepting part of a string as command or input. Eg: \"\\n\" - new line, \"\\t\" - tabspace, \"\\r\"- carriage return, \"\\v\"- vetical tab"
   ]
  },
  {
   "cell_type": "markdown",
   "id": "059b54e6",
   "metadata": {},
   "source": [
    "2. What do the escape characters n and t stand for?\n",
    "\\n for new line\n",
    "\\t for tabspace"
   ]
  },
  {
   "cell_type": "code",
   "execution_count": 3,
   "id": "28d8d335",
   "metadata": {},
   "outputs": [
    {
     "name": "stdout",
     "output_type": "stream",
     "text": [
      "back\\slash\n"
     ]
    }
   ],
   "source": [
    "#3. What is the way to include backslash characters in a string?\n",
    "#we can use '\\\\', the first backslash will be escape character and the next will be considered as a string.We can also use as below:\n",
    "a = \"back\\slash\"\n",
    "print(a)"
   ]
  },
  {
   "cell_type": "markdown",
   "id": "1006f964",
   "metadata": {},
   "source": [
    "4. The string \"Howl's Moving Castle\" is a correct value. Why isn't the single quote character in the word Howl's not escaped a problem?\n",
    "As the sentence is qouted with in double quotes it is considered as a string in whole so the single quote is not escaped."
   ]
  },
  {
   "cell_type": "code",
   "execution_count": null,
   "id": "9b879bae",
   "metadata": {},
   "outputs": [],
   "source": [
    "5. How do you write a string of newlines if you don't want to use the n character?\n",
    "we can import os and use the linesep keyword to seperate two different lines."
   ]
  },
  {
   "cell_type": "code",
   "execution_count": 8,
   "id": "e77d05ed",
   "metadata": {},
   "outputs": [
    {
     "name": "stdout",
     "output_type": "stream",
     "text": [
      "e\n",
      "Hello\n",
      "Hello\n",
      "lo, world!\n"
     ]
    }
   ],
   "source": [
    "#6. What are the values of the given expressions?\n",
    "print('Hello, world!'[1])\n",
    "print('Hello, world!'[0:5])\n",
    "print('Hello, world!'[:5])\n",
    "print('Hello, world!'[3:])"
   ]
  },
  {
   "cell_type": "code",
   "execution_count": 10,
   "id": "4b0c4c64",
   "metadata": {},
   "outputs": [
    {
     "name": "stdout",
     "output_type": "stream",
     "text": [
      "HELLO\n",
      "True\n",
      "hello\n"
     ]
    }
   ],
   "source": [
    "#7. What are the values of the following expressions?\n",
    "print('Hello'.upper())\n",
    "print('Hello'.upper().isupper())\n",
    "print('Hello'.upper().lower())\n"
   ]
  },
  {
   "cell_type": "code",
   "execution_count": 12,
   "id": "8324cbfd",
   "metadata": {},
   "outputs": [
    {
     "name": "stdout",
     "output_type": "stream",
     "text": [
      "['Remember,', 'remember,', 'the', 'fifth', 'of', 'July.']\n",
      "There-can-only-one.\n"
     ]
    }
   ],
   "source": [
    "#8. What are the values of the following expressions?\n",
    "print('Remember, remember, the fifth of July.'.split())\n",
    "print('-'.join('There can only one.'.split()))\n"
   ]
  },
  {
   "cell_type": "markdown",
   "id": "1bb3f2f5",
   "metadata": {},
   "source": [
    "9. What are the methods for right-justifying, left-justifying, and centering a string?\n",
    "ljust(5,*),rjust(5,*),center(5,*)"
   ]
  },
  {
   "cell_type": "markdown",
   "id": "c3b405b8",
   "metadata": {},
   "source": [
    "10. What is the best way to remove whitespace characters from the start or end?\n",
    "strip(),lstrip(),rstrip()"
   ]
  }
 ],
 "metadata": {
  "kernelspec": {
   "display_name": "Python 3 (ipykernel)",
   "language": "python",
   "name": "python3"
  },
  "language_info": {
   "codemirror_mode": {
    "name": "ipython",
    "version": 3
   },
   "file_extension": ".py",
   "mimetype": "text/x-python",
   "name": "python",
   "nbconvert_exporter": "python",
   "pygments_lexer": "ipython3",
   "version": "3.9.7"
  }
 },
 "nbformat": 4,
 "nbformat_minor": 5
}
