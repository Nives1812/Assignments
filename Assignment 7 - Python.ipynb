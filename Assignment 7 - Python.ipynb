{
 "cells": [
  {
   "cell_type": "markdown",
   "id": "c034abb9",
   "metadata": {},
   "source": [
    "1. What is the name of the feature responsible for generating Regex object?\n",
    "re.compile returns Regex objects"
   ]
  },
  {
   "cell_type": "markdown",
   "id": "f471f43d",
   "metadata": {},
   "source": [
    "2. Why do raw strings often appear in Regex objects?\n",
    "Raw strings are used to avoid the usage of backslashes"
   ]
  },
  {
   "cell_type": "markdown",
   "id": "96bbde9b",
   "metadata": {},
   "source": [
    "3. What is the return value of the search() method?\n",
    "it returns match objects"
   ]
  },
  {
   "cell_type": "markdown",
   "id": "c8cf921a",
   "metadata": {},
   "source": [
    "4. From a Match item, how do you get the actual strings that match the pattern?\n",
    "group() methods retuens strings of the matches objects"
   ]
  },
  {
   "cell_type": "markdown",
   "id": "564cc694",
   "metadata": {},
   "source": [
    "5. In the regex which created from the r'(\\d\\d\\d)-(\\d\\d\\d-\\d\\d\\d\\d)', what does group zero cover? Group 2? Group 1?\n",
    "Group 0 is the entire match, group1() is the first set of parentheses, group 2 is the second set of parentheses"
   ]
  },
  {
   "cell_type": "markdown",
   "id": "530c19f7",
   "metadata": {},
   "source": [
    "6. In standard expression syntax, parentheses and intervals have distinct meanings. How can you tell a regex that you want it to fit real parentheses and periods?\n",
    "Parentheses and periods can be escaped with backslash:\\.,\\(, and \\)"
   ]
  },
  {
   "cell_type": "markdown",
   "id": "34dfa6d8",
   "metadata": {},
   "source": [
    "7. The findall() method returns a string list or a list of string tuples. What causes it to return one of the two options?\n",
    "If the regex has no groups it returns list of strings. If the regex has groups it returns list of tuples of strings"
   ]
  },
  {
   "cell_type": "markdown",
   "id": "fef3d767",
   "metadata": {},
   "source": [
    "8. In standard expressions, what does the | character mean?"
   ]
  },
  {
   "cell_type": "markdown",
   "id": "d5674130",
   "metadata": {},
   "source": [
    "9. In regular expressions, what does the | character stand for?\n",
    "the character | stands for 'either, or' between two groups"
   ]
  },
  {
   "cell_type": "markdown",
   "id": "2d1c6ebc",
   "metadata": {},
   "source": [
    "10.In regular expressions, what is the difference between the + and * characters?\n",
    "The + symbol matches one or more and * symbol matches zero or more"
   ]
  },
  {
   "cell_type": "markdown",
   "id": "081b6e2c",
   "metadata": {},
   "source": [
    "11. What is the difference between {4} and {4,5} in regular expression?\n",
    "The {4} matches exactly three instances of the preceeding group and {4,5} matches between 3 and 5 instances."
   ]
  },
  {
   "cell_type": "markdown",
   "id": "41710d87",
   "metadata": {},
   "source": [
    "12. What do you mean by the \\d, \\w, and \\s shorthand character classes signify in regular expressions?\n",
    "\\d - matches a single digit\n",
    "\\w - matches a single word\n",
    "\\s - matches a single space character"
   ]
  },
  {
   "cell_type": "markdown",
   "id": "a1a960af",
   "metadata": {},
   "source": [
    "13. What do means by \\D, \\W, and \\S shorthand character classes signify in regular expressions?\n",
    "\\D - matches a single character that is not a digit\n",
    "\\W - matches a single character that is not word\n",
    "\\S - matches a single character that is not space character"
   ]
  },
  {
   "cell_type": "markdown",
   "id": "66dd46d5",
   "metadata": {},
   "source": [
    "14. What is the difference between .*? and .* ?\n",
    ".*? gives the matches the first character at start of the given character to the first character of the given character at the end. Many such sets if available will be returned\n",
    ".* matches the start and end character, returns one single output with the first character as the start and the second character as end.\n",
    "Eg: EffguJiygjfnmhEuuuuuEhuuuEEeet \n",
    "E.*?u returns Effgu, Euuuuu, Ehuuu\n",
    "E.*u returns EffguJiygjfnmhEuuuuuEhuuuEE"
   ]
  },
  {
   "cell_type": "markdown",
   "id": "d55b6d06",
   "metadata": {},
   "source": [
    "15. What is the syntax for matching both numbers and lowercase letters with a character class?\n",
    "[0-9a-z]"
   ]
  },
  {
   "cell_type": "markdown",
   "id": "f6a5acf9",
   "metadata": {},
   "source": [
    "16. What is the procedure for making a normal expression in regax case insensitive?\n",
    " After re.compile() if we pass re.I or re.IGNORECASE as second argument it will make the matching case insensitive."
   ]
  },
  {
   "cell_type": "markdown",
   "id": "637d94b7",
   "metadata": {},
   "source": [
    "17. What does the . character normally match? What does it match if re.DOTALL is passed as 2nd argument in re.compile()?\n",
    "The . character normally matches any character except the newline character. If re.DOTALL is passed as the second argument to re.compile(), then the dot will also match newline characters."
   ]
  },
  {
   "cell_type": "code",
   "execution_count": 7,
   "id": "3f8b6b6b",
   "metadata": {},
   "outputs": [
    {
     "data": {
      "text/plain": [
       "'X drummers, X pipers, five rings, X hen'"
      ]
     },
     "execution_count": 7,
     "metadata": {},
     "output_type": "execute_result"
    }
   ],
   "source": [
    "#18. If numReg = re.compile(r'\\d+'), what will numRegex.sub('X', '11 drummers, 10 pipers, five rings, 4 hen') return?\n",
    "#'X drummers, X pipers, fice rings, X hens'\n",
    "import re\n",
    "numReg = re.compile(r'\\d+')\n",
    "numReg.sub('X', '11 drummers, 10 pipers, five rings, 4 hen')"
   ]
  },
  {
   "cell_type": "markdown",
   "id": "4bfb7d66",
   "metadata": {},
   "source": [
    "19. What does passing re.VERBOSE as the 2nd argument to re.compile() allow to do?\n",
    "It allows to add whitespace and comments to the string passed to re.compile()."
   ]
  },
  {
   "cell_type": "markdown",
   "id": "5101f2d9",
   "metadata": {},
   "source": [
    "'''20. How would you write a regex that match a number with comma for every three digits? It must match the given following:\n",
    "'42'\n",
    "'1,234'\n",
    "'6,368,745'\n",
    "but not the following:\n",
    "'12,34,567' (which has only two digits between the commas)\n",
    "'1234' (which lacks commas)'''\n",
    "\n",
    "import re\n",
    "digitRegex = re.compile(r'^\\d{1,3}(?:,\\d{3})*$')\n",
    "mo = digitRegex.search('42 1,234 6,368,745 12,34,567 1234')\n",
    "print(mo)"
   ]
  },
  {
   "cell_type": "markdown",
   "id": "b67a4199",
   "metadata": {},
   "source": [
    "\"\"\"21. How would you write a regex that matches the full name of someone whose last name is Watanabe? You can assume that the first name that comes before it will always be one word that begins with a capital letter. The regex must match the following:\n",
    "'Haruto Watanabe'\n",
    "'Alice Watanabe'\n",
    "'RoboCop Watanabe'\n",
    "but not the following:\n",
    "'haruto Watanabe' (where the first name is not capitalized)\n",
    "'Mr. Watanabe' (where the preceding word has a nonletter character)\n",
    "'Watanabe' (which has no first name)\n",
    "'Haruto watanabe' (where Watanabe is not capitalized)\"\"\"\n",
    "\n",
    " re.compile(r'[A-Z][a-z]*\\sNakamoto')"
   ]
  },
  {
   "cell_type": "markdown",
   "id": "7328f685",
   "metadata": {},
   "source": [
    "22. How would you write a regex that matches a sentence where the first word is either Alice, Bob, or Carol; the second word is either eats, pets, or throws; the third word is apples, cats, or baseballs; and the sentence ends with a period? This regex should be case-insensitive. It must match the following:\n",
    "'Alice eats apples.'\n",
    "'Bob pets cats.'\n",
    "'Carol throws baseballs.'\n",
    "'Alice throws Apples.'\n",
    "'BOB EATS CATS.'\n",
    "but not the following:\n",
    "'RoboCop eats apples.'\n",
    "'ALICE THROWS FOOTBALLS.'\n",
    "'Carol eats 7 cats.'\n",
    "\n",
    "re.compile(r'(Alice|Bob|Carol)\\s(eats|pets|throws)\\s(apples|cats|baseballs)\\.', re.IGNORECASE)"
   ]
  }
 ],
 "metadata": {
  "kernelspec": {
   "display_name": "Python 3 (ipykernel)",
   "language": "python",
   "name": "python3"
  },
  "language_info": {
   "codemirror_mode": {
    "name": "ipython",
    "version": 3
   },
   "file_extension": ".py",
   "mimetype": "text/x-python",
   "name": "python",
   "nbconvert_exporter": "python",
   "pygments_lexer": "ipython3",
   "version": "3.9.7"
  }
 },
 "nbformat": 4,
 "nbformat_minor": 5
}
