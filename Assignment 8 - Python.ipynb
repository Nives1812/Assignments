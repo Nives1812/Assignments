{
 "cells": [
  {
   "cell_type": "markdown",
   "id": "de05742d",
   "metadata": {},
   "source": [
    "1. Is the Python Standard Library included with PyInputPlus?\n",
    "No"
   ]
  },
  {
   "cell_type": "markdown",
   "id": "2216fee4",
   "metadata": {},
   "source": [
    "2. Why is PyInputPlus commonly imported with import pyinputplus as pypi?\n",
    "A shorter version can be used while calling the module's function"
   ]
  },
  {
   "cell_type": "markdown",
   "id": "efff8ad0",
   "metadata": {},
   "source": [
    "3. How do you distinguish between inputInt() and inputFloat()?\n",
    "inputint() takes the input value as integer only and inputfloat() takes the input value as float only. In both the functions min, max, greater and lesser than parameters can be added."
   ]
  },
  {
   "cell_type": "markdown",
   "id": "d5e6f2bd",
   "metadata": {},
   "source": [
    "#4. Using PyInputPlus, how do you ensure that the user enters a whole number between 0 and 99?\n",
    "pyip.inputInt(min=0, max=99)\n"
   ]
  },
  {
   "cell_type": "markdown",
   "id": "32d9575f",
   "metadata": {},
   "source": [
    "5. What is transferred to the keyword arguments allowRegexes and blockRegexes?\n",
    "allowRegexes and Blockregexes keyword arguments takes a list of regular expressiom strings to determine what the PyInputPlus function wll accept or reject as valid input."
   ]
  },
  {
   "cell_type": "markdown",
   "id": "719dc74d",
   "metadata": {},
   "source": [
    "6. If a blank input is entered three times, what does inputStr(limit=3) do?\n",
    "It will return a exception namely RetryLimitException."
   ]
  },
  {
   "cell_type": "markdown",
   "id": "a53742cc",
   "metadata": {},
   "source": [
    "7. If blank input is entered three times, what does inputStr(limit=3, default='hello') do?\n",
    "When you use limit keyword arguments and also pass a default keyword argument, the function returns the default value instead of raising an exception"
   ]
  }
 ],
 "metadata": {
  "kernelspec": {
   "display_name": "Python 3 (ipykernel)",
   "language": "python",
   "name": "python3"
  },
  "language_info": {
   "codemirror_mode": {
    "name": "ipython",
    "version": 3
   },
   "file_extension": ".py",
   "mimetype": "text/x-python",
   "name": "python",
   "nbconvert_exporter": "python",
   "pygments_lexer": "ipython3",
   "version": "3.9.7"
  }
 },
 "nbformat": 4,
 "nbformat_minor": 5
}
