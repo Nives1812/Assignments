{
 "cells": [
  {
   "cell_type": "markdown",
   "id": "3592261d",
   "metadata": {},
   "source": [
    "1. To what does a relative path refer?\n",
    "It is also called as a partial path or non-absolute path. Relative path is a URL that contains a portion of the full path and its complete location is based on its relation to the directory where itis linking."
   ]
  },
  {
   "cell_type": "markdown",
   "id": "b112ee41",
   "metadata": {},
   "source": [
    "2. What does an absolute path start with your operating system?\n",
    "absolute path refers to the complete details needed to locate a file or folder, starting from the root element and ending eith the subdirections. They are used in websites and OS to locate files/folders. They are also called as pathname or fullpath."
   ]
  },
  {
   "cell_type": "markdown",
   "id": "c6050f07",
   "metadata": {},
   "source": [
    "3. What do the functions os.getcwd() and os.chdir() do?\n",
    "OS is the module thats helps functions in python to interact with the operating system.\n",
    "os.getcwd() - returns the current working directory\n",
    "os.chdir() - is used to change the directory"
   ]
  },
  {
   "cell_type": "markdown",
   "id": "a17a4674",
   "metadata": {},
   "source": [
    "4. What are the . and .. folders?\n",
    "'.' represents the current directory, it is the way to reference files and directories using a relative path.\n",
    "'..' represents the parent directory"
   ]
  },
  {
   "cell_type": "markdown",
   "id": "13bd0485",
   "metadata": {},
   "source": [
    "5. In C:\\bacon\\eggs\\spam.txt, which part is the dir name, and which part is the base name?\n",
    "C:\\bacon\\eggs - directory name\n",
    "spam.txt - base name"
   ]
  },
  {
   "cell_type": "markdown",
   "id": "6a92f627",
   "metadata": {},
   "source": [
    "6. What are the three “mode” arguments that can be passed to the open() function?\n",
    "The string 'r' -read mode, 'w' - write mode, 'a'-append mode"
   ]
  },
  {
   "cell_type": "markdown",
   "id": "a14a0710",
   "metadata": {},
   "source": [
    "7. What happens if an existing file is opened in write mode?\n",
    "An existing file open in write mode is erased and completely rewritten."
   ]
  },
  {
   "cell_type": "markdown",
   "id": "af70e7da",
   "metadata": {},
   "source": [
    "8. How do you tell the difference between read() and readlines()?\n",
    "Read()- returns the entire contents of the file as a single string value.\n",
    "readlines()- returns a list of strings, where each string is a line from the file's content."
   ]
  },
  {
   "cell_type": "markdown",
   "id": "b22f23b1",
   "metadata": {},
   "source": [
    "9. What data structure does a shelf value resemble?\n",
    "A shelf value resembles a dictionary value; it has keys and values, along with keys() and values() methods that work similarly to the dictionary methods of the same names."
   ]
  }
 ],
 "metadata": {
  "kernelspec": {
   "display_name": "Python 3 (ipykernel)",
   "language": "python",
   "name": "python3"
  },
  "language_info": {
   "codemirror_mode": {
    "name": "ipython",
    "version": 3
   },
   "file_extension": ".py",
   "mimetype": "text/x-python",
   "name": "python",
   "nbconvert_exporter": "python",
   "pygments_lexer": "ipython3",
   "version": "3.9.7"
  }
 },
 "nbformat": 4,
 "nbformat_minor": 5
}
